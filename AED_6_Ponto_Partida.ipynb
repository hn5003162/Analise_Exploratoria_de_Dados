{
  "nbformat": 4,
  "nbformat_minor": 0,
  "metadata": {
    "colab": {
      "name": "AED_6_Ponto_Partida.ipynb",
      "provenance": [],
      "include_colab_link": true
    },
    "kernelspec": {
      "name": "python3",
      "display_name": "Python 3"
    },
    "language_info": {
      "name": "python"
    }
  },
  "cells": [
    {
      "cell_type": "markdown",
      "metadata": {
        "id": "view-in-github",
        "colab_type": "text"
      },
      "source": [
        "<a href=\"https://colab.research.google.com/github/hn5003162/Analise_Exploratoria_de_Dados/blob/main/AED_6_Ponto_Partida.ipynb\" target=\"_parent\"><img src=\"https://colab.research.google.com/assets/colab-badge.svg\" alt=\"Open In Colab\"/></a>"
      ]
    },
    {
      "cell_type": "markdown",
      "metadata": {
        "id": "40b90843"
      },
      "source": [
        "<img src=\"http://meusite.mackenzie.br/rogerio/mackenzie_logo/UPM.2_horizontal_vermelho.jpg\"  width=300, align=\"right\">\n",
        "<br>\n",
        "<br>\n",
        "<br>\n",
        "<br>\n",
        "<br>\n",
        "\n",
        "# Aula 6 Ponto de Partida\n",
        "---\n",
        "Vamos agora aprender a fazer em Python as mesmas operações que você estudou e aprendeu em R. Há um grande volume de material nesta aula mas não há muitos conceitos novos e nos limitamos basicamente levar os conceitos já aprendidos em R para o Python. Por isso, apresentamos um grande número de exemplos e opções de código. Mas é apenas isso. Nesta vídeo-aula vou apresentar as principais diferenças entre os recursos de R aprendidos para o seu uso em Python e dar dicas sobre os pontos que você de fato deve dar atenção."
      ]
    },
    {
      "cell_type": "markdown",
      "metadata": {
        "id": "mMlU6ipatRlv"
      },
      "source": [
        "# Python Básico\n",
        "\n",
        "Referência rápida [aqui](https://www.w3schools.com/python/default.asp)"
      ]
    },
    {
      "cell_type": "markdown",
      "metadata": {
        "id": "NbKxEpnVx7MY"
      },
      "source": [
        "# Trabalhando com Dados: `Pandas`"
      ]
    },
    {
      "cell_type": "markdown",
      "metadata": {
        "id": "RdcjtjHgzXrL"
      },
      "source": [
        "## import pandas"
      ]
    },
    {
      "cell_type": "code",
      "metadata": {
        "id": "lvl_EF9tpg_w"
      },
      "source": [
        "import pandas as pd\n",
        "import seaborn as sns # importe dos datasets built-in\n"
      ],
      "execution_count": null,
      "outputs": []
    },
    {
      "cell_type": "code",
      "metadata": {
        "id": "QVdnSuKszD_Q",
        "colab": {
          "base_uri": "https://localhost:8080/"
        },
        "outputId": "abc756d7-81fe-4bfe-a60b-63adc4e15624"
      },
      "source": [
        "# suporte a execução de células em R\n",
        "%load_ext rpy2.ipython"
      ],
      "execution_count": null,
      "outputs": [
        {
          "output_type": "stream",
          "name": "stdout",
          "text": [
            "The rpy2.ipython extension is already loaded. To reload it, use:\n",
            "  %reload_ext rpy2.ipython\n"
          ]
        }
      ]
    },
    {
      "cell_type": "markdown",
      "metadata": {
        "id": "bioFQ4zzziVc"
      },
      "source": [
        "## Aquisição de Dados\n",
        "\n"
      ]
    },
    {
      "cell_type": "markdown",
      "metadata": {
        "id": "YCyrDR8yknZ3"
      },
      "source": [
        "[Vários Datasets](https://vincentarelbundock.github.io/Rdatasets/datasets.html)\n",
        "\n",
        "MASS\t[Cars93](https://vincentarelbundock.github.io/Rdatasets/csv/MASS/Cars93.csv)"
      ]
    },
    {
      "cell_type": "code",
      "metadata": {
        "colab": {
          "base_uri": "https://localhost:8080/"
        },
        "id": "yZqlse1Zy1Ob",
        "outputId": "e1f2aab9-574c-44a8-f784-f6e749b98b3a"
      },
      "source": [
        "%%R\n",
        "df = read.csv('https://vincentarelbundock.github.io/Rdatasets/csv/MASS/Cars93.csv')\n",
        "head(df)"
      ],
      "execution_count": null,
      "outputs": [
        {
          "output_type": "stream",
          "name": "stdout",
          "text": [
            "  X Manufacturer   Model    Type Min.Price Price Max.Price MPG.city MPG.highway\n",
            "1 1        Acura Integra   Small      12.9  15.9      18.8       25          31\n",
            "2 2        Acura  Legend Midsize      29.2  33.9      38.7       18          25\n",
            "3 3         Audi      90 Compact      25.9  29.1      32.3       20          26\n",
            "4 4         Audi     100 Midsize      30.8  37.7      44.6       19          26\n",
            "5 5          BMW    535i Midsize      23.7  30.0      36.2       22          30\n",
            "6 6        Buick Century Midsize      14.2  15.7      17.3       22          31\n",
            "             AirBags DriveTrain Cylinders EngineSize Horsepower  RPM\n",
            "1               None      Front         4        1.8        140 6300\n",
            "2 Driver & Passenger      Front         6        3.2        200 5500\n",
            "3        Driver only      Front         6        2.8        172 5500\n",
            "4 Driver & Passenger      Front         6        2.8        172 5500\n",
            "5        Driver only       Rear         4        3.5        208 5700\n",
            "6        Driver only      Front         4        2.2        110 5200\n",
            "  Rev.per.mile Man.trans.avail Fuel.tank.capacity Passengers Length Wheelbase\n",
            "1         2890             Yes               13.2          5    177       102\n",
            "2         2335             Yes               18.0          5    195       115\n",
            "3         2280             Yes               16.9          5    180       102\n",
            "4         2535             Yes               21.1          6    193       106\n",
            "5         2545             Yes               21.1          4    186       109\n",
            "6         2565              No               16.4          6    189       105\n",
            "  Width Turn.circle Rear.seat.room Luggage.room Weight  Origin          Make\n",
            "1    68          37           26.5           11   2705 non-USA Acura Integra\n",
            "2    71          38           30.0           15   3560 non-USA  Acura Legend\n",
            "3    67          37           28.0           14   3375 non-USA       Audi 90\n",
            "4    70          37           31.0           17   3405 non-USA      Audi 100\n",
            "5    69          39           27.0           13   3640 non-USA      BMW 535i\n",
            "6    69          41           28.0           16   2880     USA Buick Century\n"
          ]
        }
      ]
    },
    {
      "cell_type": "code",
      "metadata": {
        "colab": {
          "base_uri": "https://localhost:8080/",
          "height": 330
        },
        "id": "JhjOBnnVzNy2",
        "outputId": "b4f85f1e-5cc5-4a57-ff8b-c2d58a6737da"
      },
      "source": [
        "df = pd.read_csv('https://vincentarelbundock.github.io/Rdatasets/csv/MASS/Cars93.csv',)\n",
        "df.head()"
      ],
      "execution_count": null,
      "outputs": [
        {
          "output_type": "execute_result",
          "data": {
            "text/html": [
              "<div>\n",
              "<style scoped>\n",
              "    .dataframe tbody tr th:only-of-type {\n",
              "        vertical-align: middle;\n",
              "    }\n",
              "\n",
              "    .dataframe tbody tr th {\n",
              "        vertical-align: top;\n",
              "    }\n",
              "\n",
              "    .dataframe thead th {\n",
              "        text-align: right;\n",
              "    }\n",
              "</style>\n",
              "<table border=\"1\" class=\"dataframe\">\n",
              "  <thead>\n",
              "    <tr style=\"text-align: right;\">\n",
              "      <th></th>\n",
              "      <th>Unnamed: 0</th>\n",
              "      <th>Manufacturer</th>\n",
              "      <th>Model</th>\n",
              "      <th>Type</th>\n",
              "      <th>Min.Price</th>\n",
              "      <th>Price</th>\n",
              "      <th>Max.Price</th>\n",
              "      <th>MPG.city</th>\n",
              "      <th>MPG.highway</th>\n",
              "      <th>AirBags</th>\n",
              "      <th>DriveTrain</th>\n",
              "      <th>Cylinders</th>\n",
              "      <th>EngineSize</th>\n",
              "      <th>Horsepower</th>\n",
              "      <th>RPM</th>\n",
              "      <th>Rev.per.mile</th>\n",
              "      <th>Man.trans.avail</th>\n",
              "      <th>Fuel.tank.capacity</th>\n",
              "      <th>Passengers</th>\n",
              "      <th>Length</th>\n",
              "      <th>Wheelbase</th>\n",
              "      <th>Width</th>\n",
              "      <th>Turn.circle</th>\n",
              "      <th>Rear.seat.room</th>\n",
              "      <th>Luggage.room</th>\n",
              "      <th>Weight</th>\n",
              "      <th>Origin</th>\n",
              "      <th>Make</th>\n",
              "    </tr>\n",
              "  </thead>\n",
              "  <tbody>\n",
              "    <tr>\n",
              "      <th>0</th>\n",
              "      <td>1</td>\n",
              "      <td>Acura</td>\n",
              "      <td>Integra</td>\n",
              "      <td>Small</td>\n",
              "      <td>12.9</td>\n",
              "      <td>15.9</td>\n",
              "      <td>18.8</td>\n",
              "      <td>25</td>\n",
              "      <td>31</td>\n",
              "      <td>None</td>\n",
              "      <td>Front</td>\n",
              "      <td>4</td>\n",
              "      <td>1.8</td>\n",
              "      <td>140</td>\n",
              "      <td>6300</td>\n",
              "      <td>2890</td>\n",
              "      <td>Yes</td>\n",
              "      <td>13.2</td>\n",
              "      <td>5</td>\n",
              "      <td>177</td>\n",
              "      <td>102</td>\n",
              "      <td>68</td>\n",
              "      <td>37</td>\n",
              "      <td>26.5</td>\n",
              "      <td>11.0</td>\n",
              "      <td>2705</td>\n",
              "      <td>non-USA</td>\n",
              "      <td>Acura Integra</td>\n",
              "    </tr>\n",
              "    <tr>\n",
              "      <th>1</th>\n",
              "      <td>2</td>\n",
              "      <td>Acura</td>\n",
              "      <td>Legend</td>\n",
              "      <td>Midsize</td>\n",
              "      <td>29.2</td>\n",
              "      <td>33.9</td>\n",
              "      <td>38.7</td>\n",
              "      <td>18</td>\n",
              "      <td>25</td>\n",
              "      <td>Driver &amp; Passenger</td>\n",
              "      <td>Front</td>\n",
              "      <td>6</td>\n",
              "      <td>3.2</td>\n",
              "      <td>200</td>\n",
              "      <td>5500</td>\n",
              "      <td>2335</td>\n",
              "      <td>Yes</td>\n",
              "      <td>18.0</td>\n",
              "      <td>5</td>\n",
              "      <td>195</td>\n",
              "      <td>115</td>\n",
              "      <td>71</td>\n",
              "      <td>38</td>\n",
              "      <td>30.0</td>\n",
              "      <td>15.0</td>\n",
              "      <td>3560</td>\n",
              "      <td>non-USA</td>\n",
              "      <td>Acura Legend</td>\n",
              "    </tr>\n",
              "    <tr>\n",
              "      <th>2</th>\n",
              "      <td>3</td>\n",
              "      <td>Audi</td>\n",
              "      <td>90</td>\n",
              "      <td>Compact</td>\n",
              "      <td>25.9</td>\n",
              "      <td>29.1</td>\n",
              "      <td>32.3</td>\n",
              "      <td>20</td>\n",
              "      <td>26</td>\n",
              "      <td>Driver only</td>\n",
              "      <td>Front</td>\n",
              "      <td>6</td>\n",
              "      <td>2.8</td>\n",
              "      <td>172</td>\n",
              "      <td>5500</td>\n",
              "      <td>2280</td>\n",
              "      <td>Yes</td>\n",
              "      <td>16.9</td>\n",
              "      <td>5</td>\n",
              "      <td>180</td>\n",
              "      <td>102</td>\n",
              "      <td>67</td>\n",
              "      <td>37</td>\n",
              "      <td>28.0</td>\n",
              "      <td>14.0</td>\n",
              "      <td>3375</td>\n",
              "      <td>non-USA</td>\n",
              "      <td>Audi 90</td>\n",
              "    </tr>\n",
              "    <tr>\n",
              "      <th>3</th>\n",
              "      <td>4</td>\n",
              "      <td>Audi</td>\n",
              "      <td>100</td>\n",
              "      <td>Midsize</td>\n",
              "      <td>30.8</td>\n",
              "      <td>37.7</td>\n",
              "      <td>44.6</td>\n",
              "      <td>19</td>\n",
              "      <td>26</td>\n",
              "      <td>Driver &amp; Passenger</td>\n",
              "      <td>Front</td>\n",
              "      <td>6</td>\n",
              "      <td>2.8</td>\n",
              "      <td>172</td>\n",
              "      <td>5500</td>\n",
              "      <td>2535</td>\n",
              "      <td>Yes</td>\n",
              "      <td>21.1</td>\n",
              "      <td>6</td>\n",
              "      <td>193</td>\n",
              "      <td>106</td>\n",
              "      <td>70</td>\n",
              "      <td>37</td>\n",
              "      <td>31.0</td>\n",
              "      <td>17.0</td>\n",
              "      <td>3405</td>\n",
              "      <td>non-USA</td>\n",
              "      <td>Audi 100</td>\n",
              "    </tr>\n",
              "    <tr>\n",
              "      <th>4</th>\n",
              "      <td>5</td>\n",
              "      <td>BMW</td>\n",
              "      <td>535i</td>\n",
              "      <td>Midsize</td>\n",
              "      <td>23.7</td>\n",
              "      <td>30.0</td>\n",
              "      <td>36.2</td>\n",
              "      <td>22</td>\n",
              "      <td>30</td>\n",
              "      <td>Driver only</td>\n",
              "      <td>Rear</td>\n",
              "      <td>4</td>\n",
              "      <td>3.5</td>\n",
              "      <td>208</td>\n",
              "      <td>5700</td>\n",
              "      <td>2545</td>\n",
              "      <td>Yes</td>\n",
              "      <td>21.1</td>\n",
              "      <td>4</td>\n",
              "      <td>186</td>\n",
              "      <td>109</td>\n",
              "      <td>69</td>\n",
              "      <td>39</td>\n",
              "      <td>27.0</td>\n",
              "      <td>13.0</td>\n",
              "      <td>3640</td>\n",
              "      <td>non-USA</td>\n",
              "      <td>BMW 535i</td>\n",
              "    </tr>\n",
              "  </tbody>\n",
              "</table>\n",
              "</div>"
            ],
            "text/plain": [
              "   Unnamed: 0 Manufacturer    Model  ... Weight   Origin           Make\n",
              "0           1        Acura  Integra  ...   2705  non-USA  Acura Integra\n",
              "1           2        Acura   Legend  ...   3560  non-USA   Acura Legend\n",
              "2           3         Audi       90  ...   3375  non-USA        Audi 90\n",
              "3           4         Audi      100  ...   3405  non-USA       Audi 100\n",
              "4           5          BMW     535i  ...   3640  non-USA       BMW 535i\n",
              "\n",
              "[5 rows x 28 columns]"
            ]
          },
          "metadata": {},
          "execution_count": 34
        }
      ]
    },
    {
      "cell_type": "markdown",
      "metadata": {
        "id": "oLtQWy2Szp7y"
      },
      "source": [
        "### Data-sets built-in"
      ]
    },
    {
      "cell_type": "code",
      "metadata": {
        "colab": {
          "base_uri": "https://localhost:8080/"
        },
        "id": "lCHzyZoRpove",
        "outputId": "5471ece5-4a66-4936-e362-f54caedf7095"
      },
      "source": [
        "sns.get_dataset_names()"
      ],
      "execution_count": null,
      "outputs": [
        {
          "output_type": "execute_result",
          "data": {
            "text/plain": [
              "['anagrams',\n",
              " 'anscombe',\n",
              " 'attention',\n",
              " 'brain_networks',\n",
              " 'car_crashes',\n",
              " 'diamonds',\n",
              " 'dots',\n",
              " 'exercise',\n",
              " 'flights',\n",
              " 'fmri',\n",
              " 'gammas',\n",
              " 'geyser',\n",
              " 'iris',\n",
              " 'mpg',\n",
              " 'penguins',\n",
              " 'planets',\n",
              " 'tips',\n",
              " 'titanic']"
            ]
          },
          "metadata": {},
          "execution_count": 35
        }
      ]
    },
    {
      "cell_type": "code",
      "metadata": {
        "colab": {
          "base_uri": "https://localhost:8080/"
        },
        "id": "XMpJdZ2Lz0y7",
        "outputId": "54cc0191-13c0-4a31-8630-c4b566aff73f"
      },
      "source": [
        "%%R\n",
        "head(iris)"
      ],
      "execution_count": null,
      "outputs": [
        {
          "output_type": "stream",
          "name": "stdout",
          "text": [
            "  Sepal.Length Sepal.Width Petal.Length Petal.Width Species\n",
            "1          5.1         3.5          1.4         0.2  setosa\n",
            "2          4.9         3.0          1.4         0.2  setosa\n",
            "3          4.7         3.2          1.3         0.2  setosa\n",
            "4          4.6         3.1          1.5         0.2  setosa\n",
            "5          5.0         3.6          1.4         0.2  setosa\n",
            "6          5.4         3.9          1.7         0.4  setosa\n"
          ]
        }
      ]
    },
    {
      "cell_type": "code",
      "metadata": {
        "colab": {
          "base_uri": "https://localhost:8080/",
          "height": 206
        },
        "id": "2jPZapIfpzcL",
        "outputId": "09d681e9-c18f-450d-8fab-137a0eabcbc2"
      },
      "source": [
        "iris = sns.load_dataset('iris')\n",
        "iris.head()\n"
      ],
      "execution_count": null,
      "outputs": [
        {
          "output_type": "execute_result",
          "data": {
            "text/html": [
              "<div>\n",
              "<style scoped>\n",
              "    .dataframe tbody tr th:only-of-type {\n",
              "        vertical-align: middle;\n",
              "    }\n",
              "\n",
              "    .dataframe tbody tr th {\n",
              "        vertical-align: top;\n",
              "    }\n",
              "\n",
              "    .dataframe thead th {\n",
              "        text-align: right;\n",
              "    }\n",
              "</style>\n",
              "<table border=\"1\" class=\"dataframe\">\n",
              "  <thead>\n",
              "    <tr style=\"text-align: right;\">\n",
              "      <th></th>\n",
              "      <th>sepal_length</th>\n",
              "      <th>sepal_width</th>\n",
              "      <th>petal_length</th>\n",
              "      <th>petal_width</th>\n",
              "      <th>species</th>\n",
              "    </tr>\n",
              "  </thead>\n",
              "  <tbody>\n",
              "    <tr>\n",
              "      <th>0</th>\n",
              "      <td>5.1</td>\n",
              "      <td>3.5</td>\n",
              "      <td>1.4</td>\n",
              "      <td>0.2</td>\n",
              "      <td>setosa</td>\n",
              "    </tr>\n",
              "    <tr>\n",
              "      <th>1</th>\n",
              "      <td>4.9</td>\n",
              "      <td>3.0</td>\n",
              "      <td>1.4</td>\n",
              "      <td>0.2</td>\n",
              "      <td>setosa</td>\n",
              "    </tr>\n",
              "    <tr>\n",
              "      <th>2</th>\n",
              "      <td>4.7</td>\n",
              "      <td>3.2</td>\n",
              "      <td>1.3</td>\n",
              "      <td>0.2</td>\n",
              "      <td>setosa</td>\n",
              "    </tr>\n",
              "    <tr>\n",
              "      <th>3</th>\n",
              "      <td>4.6</td>\n",
              "      <td>3.1</td>\n",
              "      <td>1.5</td>\n",
              "      <td>0.2</td>\n",
              "      <td>setosa</td>\n",
              "    </tr>\n",
              "    <tr>\n",
              "      <th>4</th>\n",
              "      <td>5.0</td>\n",
              "      <td>3.6</td>\n",
              "      <td>1.4</td>\n",
              "      <td>0.2</td>\n",
              "      <td>setosa</td>\n",
              "    </tr>\n",
              "  </tbody>\n",
              "</table>\n",
              "</div>"
            ],
            "text/plain": [
              "   sepal_length  sepal_width  petal_length  petal_width species\n",
              "0           5.1          3.5           1.4          0.2  setosa\n",
              "1           4.9          3.0           1.4          0.2  setosa\n",
              "2           4.7          3.2           1.3          0.2  setosa\n",
              "3           4.6          3.1           1.5          0.2  setosa\n",
              "4           5.0          3.6           1.4          0.2  setosa"
            ]
          },
          "metadata": {},
          "execution_count": 37
        }
      ]
    },
    {
      "cell_type": "markdown",
      "metadata": {
        "id": "KvXJGFJQuDrH"
      },
      "source": [
        "# Exploração da Estrutura dos Dados"
      ]
    },
    {
      "cell_type": "code",
      "metadata": {
        "colab": {
          "base_uri": "https://localhost:8080/"
        },
        "id": "81QGdxpyrMlj",
        "outputId": "90bba91a-8ca6-4ac7-ff3a-6a39c1530c92"
      },
      "source": [
        "%%R\n",
        "Cars93 = read.csv('https://vincentarelbundock.github.io/Rdatasets/csv/MASS/Cars93.csv')\n",
        "Cars93 = Cars93[ , -1]\n",
        "head(Cars93)"
      ],
      "execution_count": null,
      "outputs": [
        {
          "output_type": "stream",
          "name": "stdout",
          "text": [
            "  Manufacturer   Model    Type Min.Price Price Max.Price MPG.city MPG.highway\n",
            "1        Acura Integra   Small      12.9  15.9      18.8       25          31\n",
            "2        Acura  Legend Midsize      29.2  33.9      38.7       18          25\n",
            "3         Audi      90 Compact      25.9  29.1      32.3       20          26\n",
            "4         Audi     100 Midsize      30.8  37.7      44.6       19          26\n",
            "5          BMW    535i Midsize      23.7  30.0      36.2       22          30\n",
            "6        Buick Century Midsize      14.2  15.7      17.3       22          31\n",
            "             AirBags DriveTrain Cylinders EngineSize Horsepower  RPM\n",
            "1               None      Front         4        1.8        140 6300\n",
            "2 Driver & Passenger      Front         6        3.2        200 5500\n",
            "3        Driver only      Front         6        2.8        172 5500\n",
            "4 Driver & Passenger      Front         6        2.8        172 5500\n",
            "5        Driver only       Rear         4        3.5        208 5700\n",
            "6        Driver only      Front         4        2.2        110 5200\n",
            "  Rev.per.mile Man.trans.avail Fuel.tank.capacity Passengers Length Wheelbase\n",
            "1         2890             Yes               13.2          5    177       102\n",
            "2         2335             Yes               18.0          5    195       115\n",
            "3         2280             Yes               16.9          5    180       102\n",
            "4         2535             Yes               21.1          6    193       106\n",
            "5         2545             Yes               21.1          4    186       109\n",
            "6         2565              No               16.4          6    189       105\n",
            "  Width Turn.circle Rear.seat.room Luggage.room Weight  Origin          Make\n",
            "1    68          37           26.5           11   2705 non-USA Acura Integra\n",
            "2    71          38           30.0           15   3560 non-USA  Acura Legend\n",
            "3    67          37           28.0           14   3375 non-USA       Audi 90\n",
            "4    70          37           31.0           17   3405 non-USA      Audi 100\n",
            "5    69          39           27.0           13   3640 non-USA      BMW 535i\n",
            "6    69          41           28.0           16   2880     USA Buick Century\n"
          ]
        }
      ]
    },
    {
      "cell_type": "code",
      "metadata": {
        "colab": {
          "base_uri": "https://localhost:8080/",
          "height": 313
        },
        "id": "emGm3WIm0JY3",
        "outputId": "e2ff1d19-9beb-4977-bb38-c0ba369290f7"
      },
      "source": [
        "Cars93 = pd.read_csv('https://vincentarelbundock.github.io/Rdatasets/csv/MASS/Cars93.csv')\n",
        "Cars93 = Cars93[Cars93.columns[1:-1]]\n",
        "Cars93.head()"
      ],
      "execution_count": null,
      "outputs": [
        {
          "output_type": "execute_result",
          "data": {
            "text/html": [
              "<div>\n",
              "<style scoped>\n",
              "    .dataframe tbody tr th:only-of-type {\n",
              "        vertical-align: middle;\n",
              "    }\n",
              "\n",
              "    .dataframe tbody tr th {\n",
              "        vertical-align: top;\n",
              "    }\n",
              "\n",
              "    .dataframe thead th {\n",
              "        text-align: right;\n",
              "    }\n",
              "</style>\n",
              "<table border=\"1\" class=\"dataframe\">\n",
              "  <thead>\n",
              "    <tr style=\"text-align: right;\">\n",
              "      <th></th>\n",
              "      <th>Manufacturer</th>\n",
              "      <th>Model</th>\n",
              "      <th>Type</th>\n",
              "      <th>Min.Price</th>\n",
              "      <th>Price</th>\n",
              "      <th>Max.Price</th>\n",
              "      <th>MPG.city</th>\n",
              "      <th>MPG.highway</th>\n",
              "      <th>AirBags</th>\n",
              "      <th>DriveTrain</th>\n",
              "      <th>Cylinders</th>\n",
              "      <th>EngineSize</th>\n",
              "      <th>Horsepower</th>\n",
              "      <th>RPM</th>\n",
              "      <th>Rev.per.mile</th>\n",
              "      <th>Man.trans.avail</th>\n",
              "      <th>Fuel.tank.capacity</th>\n",
              "      <th>Passengers</th>\n",
              "      <th>Length</th>\n",
              "      <th>Wheelbase</th>\n",
              "      <th>Width</th>\n",
              "      <th>Turn.circle</th>\n",
              "      <th>Rear.seat.room</th>\n",
              "      <th>Luggage.room</th>\n",
              "      <th>Weight</th>\n",
              "      <th>Origin</th>\n",
              "    </tr>\n",
              "  </thead>\n",
              "  <tbody>\n",
              "    <tr>\n",
              "      <th>0</th>\n",
              "      <td>Acura</td>\n",
              "      <td>Integra</td>\n",
              "      <td>Small</td>\n",
              "      <td>12.9</td>\n",
              "      <td>15.9</td>\n",
              "      <td>18.8</td>\n",
              "      <td>25</td>\n",
              "      <td>31</td>\n",
              "      <td>None</td>\n",
              "      <td>Front</td>\n",
              "      <td>4</td>\n",
              "      <td>1.8</td>\n",
              "      <td>140</td>\n",
              "      <td>6300</td>\n",
              "      <td>2890</td>\n",
              "      <td>Yes</td>\n",
              "      <td>13.2</td>\n",
              "      <td>5</td>\n",
              "      <td>177</td>\n",
              "      <td>102</td>\n",
              "      <td>68</td>\n",
              "      <td>37</td>\n",
              "      <td>26.5</td>\n",
              "      <td>11.0</td>\n",
              "      <td>2705</td>\n",
              "      <td>non-USA</td>\n",
              "    </tr>\n",
              "    <tr>\n",
              "      <th>1</th>\n",
              "      <td>Acura</td>\n",
              "      <td>Legend</td>\n",
              "      <td>Midsize</td>\n",
              "      <td>29.2</td>\n",
              "      <td>33.9</td>\n",
              "      <td>38.7</td>\n",
              "      <td>18</td>\n",
              "      <td>25</td>\n",
              "      <td>Driver &amp; Passenger</td>\n",
              "      <td>Front</td>\n",
              "      <td>6</td>\n",
              "      <td>3.2</td>\n",
              "      <td>200</td>\n",
              "      <td>5500</td>\n",
              "      <td>2335</td>\n",
              "      <td>Yes</td>\n",
              "      <td>18.0</td>\n",
              "      <td>5</td>\n",
              "      <td>195</td>\n",
              "      <td>115</td>\n",
              "      <td>71</td>\n",
              "      <td>38</td>\n",
              "      <td>30.0</td>\n",
              "      <td>15.0</td>\n",
              "      <td>3560</td>\n",
              "      <td>non-USA</td>\n",
              "    </tr>\n",
              "    <tr>\n",
              "      <th>2</th>\n",
              "      <td>Audi</td>\n",
              "      <td>90</td>\n",
              "      <td>Compact</td>\n",
              "      <td>25.9</td>\n",
              "      <td>29.1</td>\n",
              "      <td>32.3</td>\n",
              "      <td>20</td>\n",
              "      <td>26</td>\n",
              "      <td>Driver only</td>\n",
              "      <td>Front</td>\n",
              "      <td>6</td>\n",
              "      <td>2.8</td>\n",
              "      <td>172</td>\n",
              "      <td>5500</td>\n",
              "      <td>2280</td>\n",
              "      <td>Yes</td>\n",
              "      <td>16.9</td>\n",
              "      <td>5</td>\n",
              "      <td>180</td>\n",
              "      <td>102</td>\n",
              "      <td>67</td>\n",
              "      <td>37</td>\n",
              "      <td>28.0</td>\n",
              "      <td>14.0</td>\n",
              "      <td>3375</td>\n",
              "      <td>non-USA</td>\n",
              "    </tr>\n",
              "    <tr>\n",
              "      <th>3</th>\n",
              "      <td>Audi</td>\n",
              "      <td>100</td>\n",
              "      <td>Midsize</td>\n",
              "      <td>30.8</td>\n",
              "      <td>37.7</td>\n",
              "      <td>44.6</td>\n",
              "      <td>19</td>\n",
              "      <td>26</td>\n",
              "      <td>Driver &amp; Passenger</td>\n",
              "      <td>Front</td>\n",
              "      <td>6</td>\n",
              "      <td>2.8</td>\n",
              "      <td>172</td>\n",
              "      <td>5500</td>\n",
              "      <td>2535</td>\n",
              "      <td>Yes</td>\n",
              "      <td>21.1</td>\n",
              "      <td>6</td>\n",
              "      <td>193</td>\n",
              "      <td>106</td>\n",
              "      <td>70</td>\n",
              "      <td>37</td>\n",
              "      <td>31.0</td>\n",
              "      <td>17.0</td>\n",
              "      <td>3405</td>\n",
              "      <td>non-USA</td>\n",
              "    </tr>\n",
              "    <tr>\n",
              "      <th>4</th>\n",
              "      <td>BMW</td>\n",
              "      <td>535i</td>\n",
              "      <td>Midsize</td>\n",
              "      <td>23.7</td>\n",
              "      <td>30.0</td>\n",
              "      <td>36.2</td>\n",
              "      <td>22</td>\n",
              "      <td>30</td>\n",
              "      <td>Driver only</td>\n",
              "      <td>Rear</td>\n",
              "      <td>4</td>\n",
              "      <td>3.5</td>\n",
              "      <td>208</td>\n",
              "      <td>5700</td>\n",
              "      <td>2545</td>\n",
              "      <td>Yes</td>\n",
              "      <td>21.1</td>\n",
              "      <td>4</td>\n",
              "      <td>186</td>\n",
              "      <td>109</td>\n",
              "      <td>69</td>\n",
              "      <td>39</td>\n",
              "      <td>27.0</td>\n",
              "      <td>13.0</td>\n",
              "      <td>3640</td>\n",
              "      <td>non-USA</td>\n",
              "    </tr>\n",
              "  </tbody>\n",
              "</table>\n",
              "</div>"
            ],
            "text/plain": [
              "  Manufacturer    Model     Type  ...  Luggage.room  Weight   Origin\n",
              "0        Acura  Integra    Small  ...          11.0    2705  non-USA\n",
              "1        Acura   Legend  Midsize  ...          15.0    3560  non-USA\n",
              "2         Audi       90  Compact  ...          14.0    3375  non-USA\n",
              "3         Audi      100  Midsize  ...          17.0    3405  non-USA\n",
              "4          BMW     535i  Midsize  ...          13.0    3640  non-USA\n",
              "\n",
              "[5 rows x 26 columns]"
            ]
          },
          "metadata": {},
          "execution_count": 39
        }
      ]
    },
    {
      "cell_type": "code",
      "metadata": {
        "colab": {
          "base_uri": "https://localhost:8080/"
        },
        "id": "AioijRX7sZ5G",
        "outputId": "4bb0b6f4-b44e-48a9-bcec-00357dedd7d7"
      },
      "source": [
        "%%R\n",
        "nrow(Cars93)"
      ],
      "execution_count": null,
      "outputs": [
        {
          "output_type": "stream",
          "name": "stdout",
          "text": [
            "[1] 93\n"
          ]
        }
      ]
    },
    {
      "cell_type": "code",
      "metadata": {
        "colab": {
          "base_uri": "https://localhost:8080/"
        },
        "id": "rmVHh2kQ0PMS",
        "outputId": "8c263226-bdf3-4642-cc89-fe1a58fecd87"
      },
      "source": [
        "len(Cars93)"
      ],
      "execution_count": null,
      "outputs": [
        {
          "output_type": "execute_result",
          "data": {
            "text/plain": [
              "93"
            ]
          },
          "metadata": {},
          "execution_count": 41
        }
      ]
    },
    {
      "cell_type": "code",
      "metadata": {
        "colab": {
          "base_uri": "https://localhost:8080/"
        },
        "id": "8OKVB0CyseBl",
        "outputId": "e4093521-c443-4e5a-ca97-da3f1936d45b"
      },
      "source": [
        "%%R\n",
        "ncol(Cars93)"
      ],
      "execution_count": null,
      "outputs": [
        {
          "output_type": "stream",
          "name": "stdout",
          "text": [
            "[1] 27\n"
          ]
        }
      ]
    },
    {
      "cell_type": "code",
      "metadata": {
        "colab": {
          "base_uri": "https://localhost:8080/"
        },
        "id": "exTpnZGT0Xrk",
        "outputId": "c7435655-972a-487d-bf5f-b478703698c7"
      },
      "source": [
        "Cars93.shape[1]"
      ],
      "execution_count": null,
      "outputs": [
        {
          "output_type": "execute_result",
          "data": {
            "text/plain": [
              "26"
            ]
          },
          "metadata": {},
          "execution_count": 43
        }
      ]
    },
    {
      "cell_type": "code",
      "metadata": {
        "colab": {
          "base_uri": "https://localhost:8080/"
        },
        "id": "3AiCXnmQsjBP",
        "outputId": "59dfbc65-2fc7-4f87-c3c4-bc586a8d0372"
      },
      "source": [
        "%%R\n",
        "names(Cars93)"
      ],
      "execution_count": null,
      "outputs": [
        {
          "output_type": "stream",
          "name": "stdout",
          "text": [
            " [1] \"Manufacturer\"       \"Model\"              \"Type\"              \n",
            " [4] \"Min.Price\"          \"Price\"              \"Max.Price\"         \n",
            " [7] \"MPG.city\"           \"MPG.highway\"        \"AirBags\"           \n",
            "[10] \"DriveTrain\"         \"Cylinders\"          \"EngineSize\"        \n",
            "[13] \"Horsepower\"         \"RPM\"                \"Rev.per.mile\"      \n",
            "[16] \"Man.trans.avail\"    \"Fuel.tank.capacity\" \"Passengers\"        \n",
            "[19] \"Length\"             \"Wheelbase\"          \"Width\"             \n",
            "[22] \"Turn.circle\"        \"Rear.seat.room\"     \"Luggage.room\"      \n",
            "[25] \"Weight\"             \"Origin\"             \"Make\"              \n"
          ]
        }
      ]
    },
    {
      "cell_type": "code",
      "metadata": {
        "colab": {
          "base_uri": "https://localhost:8080/"
        },
        "id": "rPWeqIuX0i_v",
        "outputId": "898049bc-d9de-4a2f-fedd-38dace0bb086"
      },
      "source": [
        "Cars93.columns"
      ],
      "execution_count": null,
      "outputs": [
        {
          "output_type": "execute_result",
          "data": {
            "text/plain": [
              "Index(['Manufacturer', 'Model', 'Type', 'Min.Price', 'Price', 'Max.Price',\n",
              "       'MPG.city', 'MPG.highway', 'AirBags', 'DriveTrain', 'Cylinders',\n",
              "       'EngineSize', 'Horsepower', 'RPM', 'Rev.per.mile', 'Man.trans.avail',\n",
              "       'Fuel.tank.capacity', 'Passengers', 'Length', 'Wheelbase', 'Width',\n",
              "       'Turn.circle', 'Rear.seat.room', 'Luggage.room', 'Weight', 'Origin'],\n",
              "      dtype='object')"
            ]
          },
          "metadata": {},
          "execution_count": 45
        }
      ]
    },
    {
      "cell_type": "code",
      "metadata": {
        "colab": {
          "base_uri": "https://localhost:8080/"
        },
        "id": "HRBC-BHkslXK",
        "outputId": "65eb63da-04da-434c-900d-d20d98b4d4ae"
      },
      "source": [
        "%%R\n",
        "str(Cars93)"
      ],
      "execution_count": null,
      "outputs": [
        {
          "output_type": "stream",
          "name": "stdout",
          "text": [
            "'data.frame':\t93 obs. of  27 variables:\n",
            " $ Manufacturer      : chr  \"Acura\" \"Acura\" \"Audi\" \"Audi\" ...\n",
            " $ Model             : chr  \"Integra\" \"Legend\" \"90\" \"100\" ...\n",
            " $ Type              : chr  \"Small\" \"Midsize\" \"Compact\" \"Midsize\" ...\n",
            " $ Min.Price         : num  12.9 29.2 25.9 30.8 23.7 14.2 19.9 22.6 26.3 33 ...\n",
            " $ Price             : num  15.9 33.9 29.1 37.7 30 15.7 20.8 23.7 26.3 34.7 ...\n",
            " $ Max.Price         : num  18.8 38.7 32.3 44.6 36.2 17.3 21.7 24.9 26.3 36.3 ...\n",
            " $ MPG.city          : int  25 18 20 19 22 22 19 16 19 16 ...\n",
            " $ MPG.highway       : int  31 25 26 26 30 31 28 25 27 25 ...\n",
            " $ AirBags           : chr  \"None\" \"Driver & Passenger\" \"Driver only\" \"Driver & Passenger\" ...\n",
            " $ DriveTrain        : chr  \"Front\" \"Front\" \"Front\" \"Front\" ...\n",
            " $ Cylinders         : chr  \"4\" \"6\" \"6\" \"6\" ...\n",
            " $ EngineSize        : num  1.8 3.2 2.8 2.8 3.5 2.2 3.8 5.7 3.8 4.9 ...\n",
            " $ Horsepower        : int  140 200 172 172 208 110 170 180 170 200 ...\n",
            " $ RPM               : int  6300 5500 5500 5500 5700 5200 4800 4000 4800 4100 ...\n",
            " $ Rev.per.mile      : int  2890 2335 2280 2535 2545 2565 1570 1320 1690 1510 ...\n",
            " $ Man.trans.avail   : chr  \"Yes\" \"Yes\" \"Yes\" \"Yes\" ...\n",
            " $ Fuel.tank.capacity: num  13.2 18 16.9 21.1 21.1 16.4 18 23 18.8 18 ...\n",
            " $ Passengers        : int  5 5 5 6 4 6 6 6 5 6 ...\n",
            " $ Length            : int  177 195 180 193 186 189 200 216 198 206 ...\n",
            " $ Wheelbase         : int  102 115 102 106 109 105 111 116 108 114 ...\n",
            " $ Width             : int  68 71 67 70 69 69 74 78 73 73 ...\n",
            " $ Turn.circle       : int  37 38 37 37 39 41 42 45 41 43 ...\n",
            " $ Rear.seat.room    : num  26.5 30 28 31 27 28 30.5 30.5 26.5 35 ...\n",
            " $ Luggage.room      : int  11 15 14 17 13 16 17 21 14 18 ...\n",
            " $ Weight            : int  2705 3560 3375 3405 3640 2880 3470 4105 3495 3620 ...\n",
            " $ Origin            : chr  \"non-USA\" \"non-USA\" \"non-USA\" \"non-USA\" ...\n",
            " $ Make              : chr  \"Acura Integra\" \"Acura Legend\" \"Audi 90\" \"Audi 100\" ...\n"
          ]
        }
      ]
    },
    {
      "cell_type": "code",
      "metadata": {
        "colab": {
          "base_uri": "https://localhost:8080/"
        },
        "id": "8go2q_1H0rr_",
        "outputId": "bbf252ee-41ea-431a-dcb5-73dd174b9a60"
      },
      "source": [
        "Cars93.info()"
      ],
      "execution_count": null,
      "outputs": [
        {
          "output_type": "stream",
          "name": "stdout",
          "text": [
            "<class 'pandas.core.frame.DataFrame'>\n",
            "RangeIndex: 93 entries, 0 to 92\n",
            "Data columns (total 26 columns):\n",
            " #   Column              Non-Null Count  Dtype  \n",
            "---  ------              --------------  -----  \n",
            " 0   Manufacturer        93 non-null     object \n",
            " 1   Model               93 non-null     object \n",
            " 2   Type                93 non-null     object \n",
            " 3   Min.Price           93 non-null     float64\n",
            " 4   Price               93 non-null     float64\n",
            " 5   Max.Price           93 non-null     float64\n",
            " 6   MPG.city            93 non-null     int64  \n",
            " 7   MPG.highway         93 non-null     int64  \n",
            " 8   AirBags             93 non-null     object \n",
            " 9   DriveTrain          93 non-null     object \n",
            " 10  Cylinders           93 non-null     object \n",
            " 11  EngineSize          93 non-null     float64\n",
            " 12  Horsepower          93 non-null     int64  \n",
            " 13  RPM                 93 non-null     int64  \n",
            " 14  Rev.per.mile        93 non-null     int64  \n",
            " 15  Man.trans.avail     93 non-null     object \n",
            " 16  Fuel.tank.capacity  93 non-null     float64\n",
            " 17  Passengers          93 non-null     int64  \n",
            " 18  Length              93 non-null     int64  \n",
            " 19  Wheelbase           93 non-null     int64  \n",
            " 20  Width               93 non-null     int64  \n",
            " 21  Turn.circle         93 non-null     int64  \n",
            " 22  Rear.seat.room      91 non-null     float64\n",
            " 23  Luggage.room        82 non-null     float64\n",
            " 24  Weight              93 non-null     int64  \n",
            " 25  Origin              93 non-null     object \n",
            "dtypes: float64(7), int64(11), object(8)\n",
            "memory usage: 19.0+ KB\n"
          ]
        }
      ]
    },
    {
      "cell_type": "code",
      "metadata": {
        "colab": {
          "base_uri": "https://localhost:8080/"
        },
        "id": "TcQiU3Yis_B0",
        "outputId": "8d3523d2-93d9-4362-8f49-10a7527aec19"
      },
      "source": [
        "%%R\n",
        "summary(Cars93)"
      ],
      "execution_count": null,
      "outputs": [
        {
          "output_type": "stream",
          "name": "stdout",
          "text": [
            " Manufacturer          Model               Type             Min.Price    \n",
            " Length:93          Length:93          Length:93          Min.   : 6.70  \n",
            " Class :character   Class :character   Class :character   1st Qu.:10.80  \n",
            " Mode  :character   Mode  :character   Mode  :character   Median :14.70  \n",
            "                                                          Mean   :17.13  \n",
            "                                                          3rd Qu.:20.30  \n",
            "                                                          Max.   :45.40  \n",
            "                                                                         \n",
            "     Price         Max.Price       MPG.city      MPG.highway   \n",
            " Min.   : 7.40   Min.   : 7.9   Min.   :15.00   Min.   :20.00  \n",
            " 1st Qu.:12.20   1st Qu.:14.7   1st Qu.:18.00   1st Qu.:26.00  \n",
            " Median :17.70   Median :19.6   Median :21.00   Median :28.00  \n",
            " Mean   :19.51   Mean   :21.9   Mean   :22.37   Mean   :29.09  \n",
            " 3rd Qu.:23.30   3rd Qu.:25.3   3rd Qu.:25.00   3rd Qu.:31.00  \n",
            " Max.   :61.90   Max.   :80.0   Max.   :46.00   Max.   :50.00  \n",
            "                                                               \n",
            "   AirBags           DriveTrain         Cylinders           EngineSize   \n",
            " Length:93          Length:93          Length:93          Min.   :1.000  \n",
            " Class :character   Class :character   Class :character   1st Qu.:1.800  \n",
            " Mode  :character   Mode  :character   Mode  :character   Median :2.400  \n",
            "                                                          Mean   :2.668  \n",
            "                                                          3rd Qu.:3.300  \n",
            "                                                          Max.   :5.700  \n",
            "                                                                         \n",
            "   Horsepower         RPM        Rev.per.mile  Man.trans.avail   \n",
            " Min.   : 55.0   Min.   :3800   Min.   :1320   Length:93         \n",
            " 1st Qu.:103.0   1st Qu.:4800   1st Qu.:1985   Class :character  \n",
            " Median :140.0   Median :5200   Median :2340   Mode  :character  \n",
            " Mean   :143.8   Mean   :5281   Mean   :2332                     \n",
            " 3rd Qu.:170.0   3rd Qu.:5750   3rd Qu.:2565                     \n",
            " Max.   :300.0   Max.   :6500   Max.   :3755                     \n",
            "                                                                 \n",
            " Fuel.tank.capacity   Passengers        Length        Wheelbase    \n",
            " Min.   : 9.20      Min.   :2.000   Min.   :141.0   Min.   : 90.0  \n",
            " 1st Qu.:14.50      1st Qu.:4.000   1st Qu.:174.0   1st Qu.: 98.0  \n",
            " Median :16.40      Median :5.000   Median :183.0   Median :103.0  \n",
            " Mean   :16.66      Mean   :5.086   Mean   :183.2   Mean   :103.9  \n",
            " 3rd Qu.:18.80      3rd Qu.:6.000   3rd Qu.:192.0   3rd Qu.:110.0  \n",
            " Max.   :27.00      Max.   :8.000   Max.   :219.0   Max.   :119.0  \n",
            "                                                                   \n",
            "     Width        Turn.circle    Rear.seat.room   Luggage.room       Weight    \n",
            " Min.   :60.00   Min.   :32.00   Min.   :19.00   Min.   : 6.00   Min.   :1695  \n",
            " 1st Qu.:67.00   1st Qu.:37.00   1st Qu.:26.00   1st Qu.:12.00   1st Qu.:2620  \n",
            " Median :69.00   Median :39.00   Median :27.50   Median :14.00   Median :3040  \n",
            " Mean   :69.38   Mean   :38.96   Mean   :27.83   Mean   :13.89   Mean   :3073  \n",
            " 3rd Qu.:72.00   3rd Qu.:41.00   3rd Qu.:30.00   3rd Qu.:15.00   3rd Qu.:3525  \n",
            " Max.   :78.00   Max.   :45.00   Max.   :36.00   Max.   :22.00   Max.   :4105  \n",
            "                                 NA's   :2       NA's   :11                    \n",
            "    Origin              Make          \n",
            " Length:93          Length:93         \n",
            " Class :character   Class :character  \n",
            " Mode  :character   Mode  :character  \n",
            "                                      \n",
            "                                      \n",
            "                                      \n",
            "                                      \n"
          ]
        }
      ]
    },
    {
      "cell_type": "code",
      "metadata": {
        "colab": {
          "base_uri": "https://localhost:8080/",
          "height": 432
        },
        "id": "farB5u1Y01uS",
        "outputId": "e6c190bf-9e3a-47b5-98a3-c6a271b8594f"
      },
      "source": [
        "Cars93.describe(include='all')"
      ],
      "execution_count": null,
      "outputs": [
        {
          "output_type": "execute_result",
          "data": {
            "text/html": [
              "<div>\n",
              "<style scoped>\n",
              "    .dataframe tbody tr th:only-of-type {\n",
              "        vertical-align: middle;\n",
              "    }\n",
              "\n",
              "    .dataframe tbody tr th {\n",
              "        vertical-align: top;\n",
              "    }\n",
              "\n",
              "    .dataframe thead th {\n",
              "        text-align: right;\n",
              "    }\n",
              "</style>\n",
              "<table border=\"1\" class=\"dataframe\">\n",
              "  <thead>\n",
              "    <tr style=\"text-align: right;\">\n",
              "      <th></th>\n",
              "      <th>Manufacturer</th>\n",
              "      <th>Model</th>\n",
              "      <th>Type</th>\n",
              "      <th>Min.Price</th>\n",
              "      <th>Price</th>\n",
              "      <th>Max.Price</th>\n",
              "      <th>MPG.city</th>\n",
              "      <th>MPG.highway</th>\n",
              "      <th>AirBags</th>\n",
              "      <th>DriveTrain</th>\n",
              "      <th>Cylinders</th>\n",
              "      <th>EngineSize</th>\n",
              "      <th>Horsepower</th>\n",
              "      <th>RPM</th>\n",
              "      <th>Rev.per.mile</th>\n",
              "      <th>Man.trans.avail</th>\n",
              "      <th>Fuel.tank.capacity</th>\n",
              "      <th>Passengers</th>\n",
              "      <th>Length</th>\n",
              "      <th>Wheelbase</th>\n",
              "      <th>Width</th>\n",
              "      <th>Turn.circle</th>\n",
              "      <th>Rear.seat.room</th>\n",
              "      <th>Luggage.room</th>\n",
              "      <th>Weight</th>\n",
              "      <th>Origin</th>\n",
              "    </tr>\n",
              "  </thead>\n",
              "  <tbody>\n",
              "    <tr>\n",
              "      <th>count</th>\n",
              "      <td>93</td>\n",
              "      <td>93</td>\n",
              "      <td>93</td>\n",
              "      <td>93.000000</td>\n",
              "      <td>93.000000</td>\n",
              "      <td>93.000000</td>\n",
              "      <td>93.000000</td>\n",
              "      <td>93.000000</td>\n",
              "      <td>93</td>\n",
              "      <td>93</td>\n",
              "      <td>93</td>\n",
              "      <td>93.000000</td>\n",
              "      <td>93.000000</td>\n",
              "      <td>93.000000</td>\n",
              "      <td>93.000000</td>\n",
              "      <td>93</td>\n",
              "      <td>93.000000</td>\n",
              "      <td>93.000000</td>\n",
              "      <td>93.000000</td>\n",
              "      <td>93.000000</td>\n",
              "      <td>93.000000</td>\n",
              "      <td>93.000000</td>\n",
              "      <td>91.000000</td>\n",
              "      <td>82.000000</td>\n",
              "      <td>93.000000</td>\n",
              "      <td>93</td>\n",
              "    </tr>\n",
              "    <tr>\n",
              "      <th>unique</th>\n",
              "      <td>32</td>\n",
              "      <td>93</td>\n",
              "      <td>6</td>\n",
              "      <td>NaN</td>\n",
              "      <td>NaN</td>\n",
              "      <td>NaN</td>\n",
              "      <td>NaN</td>\n",
              "      <td>NaN</td>\n",
              "      <td>3</td>\n",
              "      <td>3</td>\n",
              "      <td>6</td>\n",
              "      <td>NaN</td>\n",
              "      <td>NaN</td>\n",
              "      <td>NaN</td>\n",
              "      <td>NaN</td>\n",
              "      <td>2</td>\n",
              "      <td>NaN</td>\n",
              "      <td>NaN</td>\n",
              "      <td>NaN</td>\n",
              "      <td>NaN</td>\n",
              "      <td>NaN</td>\n",
              "      <td>NaN</td>\n",
              "      <td>NaN</td>\n",
              "      <td>NaN</td>\n",
              "      <td>NaN</td>\n",
              "      <td>2</td>\n",
              "    </tr>\n",
              "    <tr>\n",
              "      <th>top</th>\n",
              "      <td>Ford</td>\n",
              "      <td>Excel</td>\n",
              "      <td>Midsize</td>\n",
              "      <td>NaN</td>\n",
              "      <td>NaN</td>\n",
              "      <td>NaN</td>\n",
              "      <td>NaN</td>\n",
              "      <td>NaN</td>\n",
              "      <td>Driver only</td>\n",
              "      <td>Front</td>\n",
              "      <td>4</td>\n",
              "      <td>NaN</td>\n",
              "      <td>NaN</td>\n",
              "      <td>NaN</td>\n",
              "      <td>NaN</td>\n",
              "      <td>Yes</td>\n",
              "      <td>NaN</td>\n",
              "      <td>NaN</td>\n",
              "      <td>NaN</td>\n",
              "      <td>NaN</td>\n",
              "      <td>NaN</td>\n",
              "      <td>NaN</td>\n",
              "      <td>NaN</td>\n",
              "      <td>NaN</td>\n",
              "      <td>NaN</td>\n",
              "      <td>USA</td>\n",
              "    </tr>\n",
              "    <tr>\n",
              "      <th>freq</th>\n",
              "      <td>8</td>\n",
              "      <td>1</td>\n",
              "      <td>22</td>\n",
              "      <td>NaN</td>\n",
              "      <td>NaN</td>\n",
              "      <td>NaN</td>\n",
              "      <td>NaN</td>\n",
              "      <td>NaN</td>\n",
              "      <td>43</td>\n",
              "      <td>67</td>\n",
              "      <td>49</td>\n",
              "      <td>NaN</td>\n",
              "      <td>NaN</td>\n",
              "      <td>NaN</td>\n",
              "      <td>NaN</td>\n",
              "      <td>61</td>\n",
              "      <td>NaN</td>\n",
              "      <td>NaN</td>\n",
              "      <td>NaN</td>\n",
              "      <td>NaN</td>\n",
              "      <td>NaN</td>\n",
              "      <td>NaN</td>\n",
              "      <td>NaN</td>\n",
              "      <td>NaN</td>\n",
              "      <td>NaN</td>\n",
              "      <td>48</td>\n",
              "    </tr>\n",
              "    <tr>\n",
              "      <th>mean</th>\n",
              "      <td>NaN</td>\n",
              "      <td>NaN</td>\n",
              "      <td>NaN</td>\n",
              "      <td>17.125806</td>\n",
              "      <td>19.509677</td>\n",
              "      <td>21.898925</td>\n",
              "      <td>22.365591</td>\n",
              "      <td>29.086022</td>\n",
              "      <td>NaN</td>\n",
              "      <td>NaN</td>\n",
              "      <td>NaN</td>\n",
              "      <td>2.667742</td>\n",
              "      <td>143.827957</td>\n",
              "      <td>5280.645161</td>\n",
              "      <td>2332.204301</td>\n",
              "      <td>NaN</td>\n",
              "      <td>16.664516</td>\n",
              "      <td>5.086022</td>\n",
              "      <td>183.204301</td>\n",
              "      <td>103.946237</td>\n",
              "      <td>69.376344</td>\n",
              "      <td>38.956989</td>\n",
              "      <td>27.829670</td>\n",
              "      <td>13.890244</td>\n",
              "      <td>3072.903226</td>\n",
              "      <td>NaN</td>\n",
              "    </tr>\n",
              "    <tr>\n",
              "      <th>std</th>\n",
              "      <td>NaN</td>\n",
              "      <td>NaN</td>\n",
              "      <td>NaN</td>\n",
              "      <td>8.746029</td>\n",
              "      <td>9.659430</td>\n",
              "      <td>11.030457</td>\n",
              "      <td>5.619812</td>\n",
              "      <td>5.331726</td>\n",
              "      <td>NaN</td>\n",
              "      <td>NaN</td>\n",
              "      <td>NaN</td>\n",
              "      <td>1.037363</td>\n",
              "      <td>52.374410</td>\n",
              "      <td>596.731690</td>\n",
              "      <td>496.506525</td>\n",
              "      <td>NaN</td>\n",
              "      <td>3.279370</td>\n",
              "      <td>1.038979</td>\n",
              "      <td>14.602382</td>\n",
              "      <td>6.819674</td>\n",
              "      <td>3.778986</td>\n",
              "      <td>3.223265</td>\n",
              "      <td>2.989072</td>\n",
              "      <td>2.997967</td>\n",
              "      <td>589.896510</td>\n",
              "      <td>NaN</td>\n",
              "    </tr>\n",
              "    <tr>\n",
              "      <th>min</th>\n",
              "      <td>NaN</td>\n",
              "      <td>NaN</td>\n",
              "      <td>NaN</td>\n",
              "      <td>6.700000</td>\n",
              "      <td>7.400000</td>\n",
              "      <td>7.900000</td>\n",
              "      <td>15.000000</td>\n",
              "      <td>20.000000</td>\n",
              "      <td>NaN</td>\n",
              "      <td>NaN</td>\n",
              "      <td>NaN</td>\n",
              "      <td>1.000000</td>\n",
              "      <td>55.000000</td>\n",
              "      <td>3800.000000</td>\n",
              "      <td>1320.000000</td>\n",
              "      <td>NaN</td>\n",
              "      <td>9.200000</td>\n",
              "      <td>2.000000</td>\n",
              "      <td>141.000000</td>\n",
              "      <td>90.000000</td>\n",
              "      <td>60.000000</td>\n",
              "      <td>32.000000</td>\n",
              "      <td>19.000000</td>\n",
              "      <td>6.000000</td>\n",
              "      <td>1695.000000</td>\n",
              "      <td>NaN</td>\n",
              "    </tr>\n",
              "    <tr>\n",
              "      <th>25%</th>\n",
              "      <td>NaN</td>\n",
              "      <td>NaN</td>\n",
              "      <td>NaN</td>\n",
              "      <td>10.800000</td>\n",
              "      <td>12.200000</td>\n",
              "      <td>14.700000</td>\n",
              "      <td>18.000000</td>\n",
              "      <td>26.000000</td>\n",
              "      <td>NaN</td>\n",
              "      <td>NaN</td>\n",
              "      <td>NaN</td>\n",
              "      <td>1.800000</td>\n",
              "      <td>103.000000</td>\n",
              "      <td>4800.000000</td>\n",
              "      <td>1985.000000</td>\n",
              "      <td>NaN</td>\n",
              "      <td>14.500000</td>\n",
              "      <td>4.000000</td>\n",
              "      <td>174.000000</td>\n",
              "      <td>98.000000</td>\n",
              "      <td>67.000000</td>\n",
              "      <td>37.000000</td>\n",
              "      <td>26.000000</td>\n",
              "      <td>12.000000</td>\n",
              "      <td>2620.000000</td>\n",
              "      <td>NaN</td>\n",
              "    </tr>\n",
              "    <tr>\n",
              "      <th>50%</th>\n",
              "      <td>NaN</td>\n",
              "      <td>NaN</td>\n",
              "      <td>NaN</td>\n",
              "      <td>14.700000</td>\n",
              "      <td>17.700000</td>\n",
              "      <td>19.600000</td>\n",
              "      <td>21.000000</td>\n",
              "      <td>28.000000</td>\n",
              "      <td>NaN</td>\n",
              "      <td>NaN</td>\n",
              "      <td>NaN</td>\n",
              "      <td>2.400000</td>\n",
              "      <td>140.000000</td>\n",
              "      <td>5200.000000</td>\n",
              "      <td>2340.000000</td>\n",
              "      <td>NaN</td>\n",
              "      <td>16.400000</td>\n",
              "      <td>5.000000</td>\n",
              "      <td>183.000000</td>\n",
              "      <td>103.000000</td>\n",
              "      <td>69.000000</td>\n",
              "      <td>39.000000</td>\n",
              "      <td>27.500000</td>\n",
              "      <td>14.000000</td>\n",
              "      <td>3040.000000</td>\n",
              "      <td>NaN</td>\n",
              "    </tr>\n",
              "    <tr>\n",
              "      <th>75%</th>\n",
              "      <td>NaN</td>\n",
              "      <td>NaN</td>\n",
              "      <td>NaN</td>\n",
              "      <td>20.300000</td>\n",
              "      <td>23.300000</td>\n",
              "      <td>25.300000</td>\n",
              "      <td>25.000000</td>\n",
              "      <td>31.000000</td>\n",
              "      <td>NaN</td>\n",
              "      <td>NaN</td>\n",
              "      <td>NaN</td>\n",
              "      <td>3.300000</td>\n",
              "      <td>170.000000</td>\n",
              "      <td>5750.000000</td>\n",
              "      <td>2565.000000</td>\n",
              "      <td>NaN</td>\n",
              "      <td>18.800000</td>\n",
              "      <td>6.000000</td>\n",
              "      <td>192.000000</td>\n",
              "      <td>110.000000</td>\n",
              "      <td>72.000000</td>\n",
              "      <td>41.000000</td>\n",
              "      <td>30.000000</td>\n",
              "      <td>15.000000</td>\n",
              "      <td>3525.000000</td>\n",
              "      <td>NaN</td>\n",
              "    </tr>\n",
              "    <tr>\n",
              "      <th>max</th>\n",
              "      <td>NaN</td>\n",
              "      <td>NaN</td>\n",
              "      <td>NaN</td>\n",
              "      <td>45.400000</td>\n",
              "      <td>61.900000</td>\n",
              "      <td>80.000000</td>\n",
              "      <td>46.000000</td>\n",
              "      <td>50.000000</td>\n",
              "      <td>NaN</td>\n",
              "      <td>NaN</td>\n",
              "      <td>NaN</td>\n",
              "      <td>5.700000</td>\n",
              "      <td>300.000000</td>\n",
              "      <td>6500.000000</td>\n",
              "      <td>3755.000000</td>\n",
              "      <td>NaN</td>\n",
              "      <td>27.000000</td>\n",
              "      <td>8.000000</td>\n",
              "      <td>219.000000</td>\n",
              "      <td>119.000000</td>\n",
              "      <td>78.000000</td>\n",
              "      <td>45.000000</td>\n",
              "      <td>36.000000</td>\n",
              "      <td>22.000000</td>\n",
              "      <td>4105.000000</td>\n",
              "      <td>NaN</td>\n",
              "    </tr>\n",
              "  </tbody>\n",
              "</table>\n",
              "</div>"
            ],
            "text/plain": [
              "       Manufacturer  Model     Type  ...  Luggage.room       Weight  Origin\n",
              "count            93     93       93  ...     82.000000    93.000000      93\n",
              "unique           32     93        6  ...           NaN          NaN       2\n",
              "top            Ford  Excel  Midsize  ...           NaN          NaN     USA\n",
              "freq              8      1       22  ...           NaN          NaN      48\n",
              "mean            NaN    NaN      NaN  ...     13.890244  3072.903226     NaN\n",
              "std             NaN    NaN      NaN  ...      2.997967   589.896510     NaN\n",
              "min             NaN    NaN      NaN  ...      6.000000  1695.000000     NaN\n",
              "25%             NaN    NaN      NaN  ...     12.000000  2620.000000     NaN\n",
              "50%             NaN    NaN      NaN  ...     14.000000  3040.000000     NaN\n",
              "75%             NaN    NaN      NaN  ...     15.000000  3525.000000     NaN\n",
              "max             NaN    NaN      NaN  ...     22.000000  4105.000000     NaN\n",
              "\n",
              "[11 rows x 26 columns]"
            ]
          },
          "metadata": {},
          "execution_count": 49
        }
      ]
    },
    {
      "cell_type": "markdown",
      "metadata": {
        "id": "Os2JRf_KuOxS"
      },
      "source": [
        "# Explorando um Atributo\n",
        "\n",
        "## Selecionando uma coluna"
      ]
    },
    {
      "cell_type": "code",
      "metadata": {
        "colab": {
          "base_uri": "https://localhost:8080/"
        },
        "id": "-N40EGxMuAKZ",
        "outputId": "ac016c5c-17b7-488c-d28e-a85dfb7afcd8"
      },
      "source": [
        "%%R\n",
        "Cars93$Price"
      ],
      "execution_count": null,
      "outputs": [
        {
          "output_type": "stream",
          "name": "stdout",
          "text": [
            " [1] 15.9 33.9 29.1 37.7 30.0 15.7 20.8 23.7 26.3 34.7 40.1 13.4 11.4 15.1 15.9\n",
            "[16] 16.3 16.6 18.8 38.0 18.4 15.8 29.5  9.2 11.3 13.3 19.0 15.6 25.8 12.2 19.3\n",
            "[31]  7.4 10.1 11.3 15.9 14.0 19.9 20.2 20.9  8.4 12.5 19.8 12.1 17.5  8.0 10.0\n",
            "[46] 10.0 13.9 47.9 28.0 35.2 34.3 36.1  8.3 11.6 16.5 19.1 32.5 31.9 61.9 14.1\n",
            "[61] 14.9 10.3 26.1 11.8 15.7 19.1 21.5 13.5 16.3 19.5 20.7 14.4  9.0 11.1 17.7\n",
            "[76] 18.5 24.4 28.7 11.1  8.4 10.9 19.5  8.6  9.8 18.4 18.2 22.7  9.1 19.7 20.0\n",
            "[91] 23.3 22.7 26.7\n"
          ]
        }
      ]
    },
    {
      "cell_type": "code",
      "metadata": {
        "colab": {
          "base_uri": "https://localhost:8080/"
        },
        "id": "ElXUGuE_1SnW",
        "outputId": "516f37d0-bbe2-4070-ff36-f21d064420bc"
      },
      "source": [
        "Cars93.Price\n",
        "# o mesmo que\n",
        "Cars93['Price']"
      ],
      "execution_count": null,
      "outputs": [
        {
          "output_type": "execute_result",
          "data": {
            "text/plain": [
              "0     15.9\n",
              "1     33.9\n",
              "2     29.1\n",
              "3     37.7\n",
              "4     30.0\n",
              "      ... \n",
              "88    19.7\n",
              "89    20.0\n",
              "90    23.3\n",
              "91    22.7\n",
              "92    26.7\n",
              "Name: Price, Length: 93, dtype: float64"
            ]
          },
          "metadata": {},
          "execution_count": 51
        }
      ]
    },
    {
      "cell_type": "code",
      "metadata": {
        "colab": {
          "base_uri": "https://localhost:8080/"
        },
        "id": "sDH1CrCKugP4",
        "outputId": "bbf20cdc-fdbe-4420-9788-4fd450311a50"
      },
      "source": [
        "%%R\n",
        "mean( Cars93$Price )"
      ],
      "execution_count": null,
      "outputs": [
        {
          "output_type": "stream",
          "name": "stdout",
          "text": [
            "[1] 19.50968\n"
          ]
        }
      ]
    },
    {
      "cell_type": "code",
      "metadata": {
        "colab": {
          "base_uri": "https://localhost:8080/"
        },
        "id": "cdtZI-MY2A8e",
        "outputId": "7046e51e-a910-4200-bbf8-17100a40ba61"
      },
      "source": [
        "Cars93.Price.mean()\n",
        "# o mesmo que\n",
        "Cars93['Price'].mean()"
      ],
      "execution_count": null,
      "outputs": [
        {
          "output_type": "execute_result",
          "data": {
            "text/plain": [
              "19.509677419354837"
            ]
          },
          "metadata": {},
          "execution_count": 54
        }
      ]
    },
    {
      "cell_type": "code",
      "metadata": {
        "colab": {
          "base_uri": "https://localhost:8080/"
        },
        "id": "JEl4nCaZunfA",
        "outputId": "19902028-3fab-4135-815a-02ecf107ff1c"
      },
      "source": [
        "%%R\n",
        "sd( Cars93$Price )"
      ],
      "execution_count": null,
      "outputs": [
        {
          "output_type": "stream",
          "name": "stdout",
          "text": [
            "[1] 9.65943\n"
          ]
        }
      ]
    },
    {
      "cell_type": "code",
      "metadata": {
        "colab": {
          "base_uri": "https://localhost:8080/"
        },
        "id": "DvNbWCv52Oi4",
        "outputId": "1011c50d-97e6-4b0b-c852-6a1ce1b72005"
      },
      "source": [
        "Cars93.Price.std()\n",
        "# o mesmo que\n",
        "Cars93['Price'].std()"
      ],
      "execution_count": null,
      "outputs": [
        {
          "output_type": "execute_result",
          "data": {
            "text/plain": [
              "9.659429550580962"
            ]
          },
          "metadata": {},
          "execution_count": 56
        }
      ]
    },
    {
      "cell_type": "code",
      "metadata": {
        "colab": {
          "base_uri": "https://localhost:8080/"
        },
        "id": "Q7dtNr8-u1VF",
        "outputId": "aad4e5e5-f708-4ad6-d75d-3ad5de5fee0a"
      },
      "source": [
        "%%R\n",
        "Cars93$Type"
      ],
      "execution_count": null,
      "outputs": [
        {
          "output_type": "stream",
          "name": "stdout",
          "text": [
            " [1] \"Small\"   \"Midsize\" \"Compact\" \"Midsize\" \"Midsize\" \"Midsize\" \"Large\"  \n",
            " [8] \"Large\"   \"Midsize\" \"Large\"   \"Midsize\" \"Compact\" \"Compact\" \"Sporty\" \n",
            "[15] \"Midsize\" \"Van\"     \"Van\"     \"Large\"   \"Sporty\"  \"Large\"   \"Compact\"\n",
            "[22] \"Large\"   \"Small\"   \"Small\"   \"Compact\" \"Van\"     \"Midsize\" \"Sporty\" \n",
            "[29] \"Small\"   \"Large\"   \"Small\"   \"Small\"   \"Compact\" \"Sporty\"  \"Sporty\" \n",
            "[36] \"Van\"     \"Midsize\" \"Large\"   \"Small\"   \"Sporty\"  \"Sporty\"  \"Small\"  \n",
            "[43] \"Compact\" \"Small\"   \"Small\"   \"Sporty\"  \"Midsize\" \"Midsize\" \"Midsize\"\n",
            "[50] \"Midsize\" \"Midsize\" \"Large\"   \"Small\"   \"Small\"   \"Compact\" \"Van\"    \n",
            "[57] \"Sporty\"  \"Compact\" \"Midsize\" \"Sporty\"  \"Midsize\" \"Small\"   \"Midsize\"\n",
            "[64] \"Small\"   \"Compact\" \"Van\"     \"Midsize\" \"Compact\" \"Midsize\" \"Van\"    \n",
            "[71] \"Large\"   \"Sporty\"  \"Small\"   \"Compact\" \"Sporty\"  \"Midsize\" \"Large\"  \n",
            "[78] \"Compact\" \"Small\"   \"Small\"   \"Small\"   \"Compact\" \"Small\"   \"Small\"  \n",
            "[85] \"Sporty\"  \"Midsize\" \"Van\"     \"Small\"   \"Van\"     \"Compact\" \"Sporty\" \n",
            "[92] \"Compact\" \"Midsize\"\n"
          ]
        }
      ]
    },
    {
      "cell_type": "code",
      "metadata": {
        "colab": {
          "base_uri": "https://localhost:8080/"
        },
        "id": "BW2_6bUG2ZEY",
        "outputId": "7fdba1d7-b4ab-4344-9a4f-6ff66de7f38d"
      },
      "source": [
        "Cars93.Type"
      ],
      "execution_count": null,
      "outputs": [
        {
          "output_type": "execute_result",
          "data": {
            "text/plain": [
              "0       Small\n",
              "1     Midsize\n",
              "2     Compact\n",
              "3     Midsize\n",
              "4     Midsize\n",
              "       ...   \n",
              "88        Van\n",
              "89    Compact\n",
              "90     Sporty\n",
              "91    Compact\n",
              "92    Midsize\n",
              "Name: Type, Length: 93, dtype: object"
            ]
          },
          "metadata": {},
          "execution_count": 58
        }
      ]
    },
    {
      "cell_type": "markdown",
      "metadata": {
        "id": "RxFL8w-pu7pf"
      },
      "source": [
        "### Frequencia de valores"
      ]
    },
    {
      "cell_type": "code",
      "metadata": {
        "colab": {
          "base_uri": "https://localhost:8080/"
        },
        "id": "hHzP6mjWu6fR",
        "outputId": "4b72b9cc-0af6-4d1b-99b4-4ad5644d6e07"
      },
      "source": [
        "%%R\n",
        "table( Cars93$Type )"
      ],
      "execution_count": null,
      "outputs": [
        {
          "output_type": "stream",
          "name": "stdout",
          "text": [
            "\n",
            "Compact   Large Midsize   Small  Sporty     Van \n",
            "     16      11      22      21      14       9 \n"
          ]
        }
      ]
    },
    {
      "cell_type": "code",
      "metadata": {
        "colab": {
          "base_uri": "https://localhost:8080/"
        },
        "id": "e3vFIFBy2i8Y",
        "outputId": "1c8ca38e-ec50-4940-d661-ce215594816c"
      },
      "source": [
        "Cars93.Type.value_counts()"
      ],
      "execution_count": null,
      "outputs": [
        {
          "output_type": "execute_result",
          "data": {
            "text/plain": [
              "Midsize    22\n",
              "Small      21\n",
              "Compact    16\n",
              "Sporty     14\n",
              "Large      11\n",
              "Van         9\n",
              "Name: Type, dtype: int64"
            ]
          },
          "metadata": {},
          "execution_count": 60
        }
      ]
    },
    {
      "cell_type": "markdown",
      "metadata": {
        "id": "aDPbsCk-vJYl"
      },
      "source": [
        "# Seleções dos Dados\n",
        "\n",
        "%%R: `df[ <linhas> ,  <colunas> ]`\n",
        "\n",
        "Python: `df[ <linhas> ] | [ <colunas> ]`\n",
        "\n",
        "## Seleção de Colunas"
      ]
    },
    {
      "cell_type": "code",
      "metadata": {
        "id": "NNXcorsnvcVT",
        "colab": {
          "base_uri": "https://localhost:8080/"
        },
        "outputId": "1e6bdba3-2a9f-4bc9-d991-c8704f8ed990"
      },
      "source": [
        "%%R\n",
        "# Cars93[ , c(3,5)]\n",
        "Cars93[ , c('Type', 'Price')]"
      ],
      "execution_count": null,
      "outputs": [
        {
          "output_type": "stream",
          "name": "stdout",
          "text": [
            "      Type Price\n",
            "1    Small  15.9\n",
            "2  Midsize  33.9\n",
            "3  Compact  29.1\n",
            "4  Midsize  37.7\n",
            "5  Midsize  30.0\n",
            "6  Midsize  15.7\n",
            "7    Large  20.8\n",
            "8    Large  23.7\n",
            "9  Midsize  26.3\n",
            "10   Large  34.7\n",
            "11 Midsize  40.1\n",
            "12 Compact  13.4\n",
            "13 Compact  11.4\n",
            "14  Sporty  15.1\n",
            "15 Midsize  15.9\n",
            "16     Van  16.3\n",
            "17     Van  16.6\n",
            "18   Large  18.8\n",
            "19  Sporty  38.0\n",
            "20   Large  18.4\n",
            "21 Compact  15.8\n",
            "22   Large  29.5\n",
            "23   Small   9.2\n",
            "24   Small  11.3\n",
            "25 Compact  13.3\n",
            "26     Van  19.0\n",
            "27 Midsize  15.6\n",
            "28  Sporty  25.8\n",
            "29   Small  12.2\n",
            "30   Large  19.3\n",
            "31   Small   7.4\n",
            "32   Small  10.1\n",
            "33 Compact  11.3\n",
            "34  Sporty  15.9\n",
            "35  Sporty  14.0\n",
            "36     Van  19.9\n",
            "37 Midsize  20.2\n",
            "38   Large  20.9\n",
            "39   Small   8.4\n",
            "40  Sporty  12.5\n",
            "41  Sporty  19.8\n",
            "42   Small  12.1\n",
            "43 Compact  17.5\n",
            "44   Small   8.0\n",
            "45   Small  10.0\n",
            "46  Sporty  10.0\n",
            "47 Midsize  13.9\n",
            "48 Midsize  47.9\n",
            "49 Midsize  28.0\n",
            "50 Midsize  35.2\n",
            "51 Midsize  34.3\n",
            "52   Large  36.1\n",
            "53   Small   8.3\n",
            "54   Small  11.6\n",
            "55 Compact  16.5\n",
            "56     Van  19.1\n",
            "57  Sporty  32.5\n",
            "58 Compact  31.9\n",
            "59 Midsize  61.9\n",
            "60  Sporty  14.1\n",
            "61 Midsize  14.9\n",
            "62   Small  10.3\n",
            "63 Midsize  26.1\n",
            "64   Small  11.8\n",
            "65 Compact  15.7\n",
            "66     Van  19.1\n",
            "67 Midsize  21.5\n",
            "68 Compact  13.5\n",
            "69 Midsize  16.3\n",
            "70     Van  19.5\n",
            "71   Large  20.7\n",
            "72  Sporty  14.4\n",
            "73   Small   9.0\n",
            "74 Compact  11.1\n",
            "75  Sporty  17.7\n",
            "76 Midsize  18.5\n",
            "77   Large  24.4\n",
            "78 Compact  28.7\n",
            "79   Small  11.1\n",
            "80   Small   8.4\n",
            "81   Small  10.9\n",
            "82 Compact  19.5\n",
            "83   Small   8.6\n",
            "84   Small   9.8\n",
            "85  Sporty  18.4\n",
            "86 Midsize  18.2\n",
            "87     Van  22.7\n",
            "88   Small   9.1\n",
            "89     Van  19.7\n",
            "90 Compact  20.0\n",
            "91  Sporty  23.3\n",
            "92 Compact  22.7\n",
            "93 Midsize  26.7\n"
          ]
        }
      ]
    },
    {
      "cell_type": "code",
      "metadata": {
        "colab": {
          "base_uri": "https://localhost:8080/",
          "height": 424
        },
        "id": "wFXAjki73UKu",
        "outputId": "e5bab7e0-c3e4-4861-b37d-0e8fba115174"
      },
      "source": [
        "Cars93[ ['Type', 'Price'] ]"
      ],
      "execution_count": null,
      "outputs": [
        {
          "output_type": "execute_result",
          "data": {
            "text/html": [
              "<div>\n",
              "<style scoped>\n",
              "    .dataframe tbody tr th:only-of-type {\n",
              "        vertical-align: middle;\n",
              "    }\n",
              "\n",
              "    .dataframe tbody tr th {\n",
              "        vertical-align: top;\n",
              "    }\n",
              "\n",
              "    .dataframe thead th {\n",
              "        text-align: right;\n",
              "    }\n",
              "</style>\n",
              "<table border=\"1\" class=\"dataframe\">\n",
              "  <thead>\n",
              "    <tr style=\"text-align: right;\">\n",
              "      <th></th>\n",
              "      <th>Type</th>\n",
              "      <th>Price</th>\n",
              "    </tr>\n",
              "  </thead>\n",
              "  <tbody>\n",
              "    <tr>\n",
              "      <th>0</th>\n",
              "      <td>Small</td>\n",
              "      <td>15.9</td>\n",
              "    </tr>\n",
              "    <tr>\n",
              "      <th>1</th>\n",
              "      <td>Midsize</td>\n",
              "      <td>33.9</td>\n",
              "    </tr>\n",
              "    <tr>\n",
              "      <th>2</th>\n",
              "      <td>Compact</td>\n",
              "      <td>29.1</td>\n",
              "    </tr>\n",
              "    <tr>\n",
              "      <th>3</th>\n",
              "      <td>Midsize</td>\n",
              "      <td>37.7</td>\n",
              "    </tr>\n",
              "    <tr>\n",
              "      <th>4</th>\n",
              "      <td>Midsize</td>\n",
              "      <td>30.0</td>\n",
              "    </tr>\n",
              "    <tr>\n",
              "      <th>...</th>\n",
              "      <td>...</td>\n",
              "      <td>...</td>\n",
              "    </tr>\n",
              "    <tr>\n",
              "      <th>88</th>\n",
              "      <td>Van</td>\n",
              "      <td>19.7</td>\n",
              "    </tr>\n",
              "    <tr>\n",
              "      <th>89</th>\n",
              "      <td>Compact</td>\n",
              "      <td>20.0</td>\n",
              "    </tr>\n",
              "    <tr>\n",
              "      <th>90</th>\n",
              "      <td>Sporty</td>\n",
              "      <td>23.3</td>\n",
              "    </tr>\n",
              "    <tr>\n",
              "      <th>91</th>\n",
              "      <td>Compact</td>\n",
              "      <td>22.7</td>\n",
              "    </tr>\n",
              "    <tr>\n",
              "      <th>92</th>\n",
              "      <td>Midsize</td>\n",
              "      <td>26.7</td>\n",
              "    </tr>\n",
              "  </tbody>\n",
              "</table>\n",
              "<p>93 rows × 2 columns</p>\n",
              "</div>"
            ],
            "text/plain": [
              "       Type  Price\n",
              "0     Small   15.9\n",
              "1   Midsize   33.9\n",
              "2   Compact   29.1\n",
              "3   Midsize   37.7\n",
              "4   Midsize   30.0\n",
              "..      ...    ...\n",
              "88      Van   19.7\n",
              "89  Compact   20.0\n",
              "90   Sporty   23.3\n",
              "91  Compact   22.7\n",
              "92  Midsize   26.7\n",
              "\n",
              "[93 rows x 2 columns]"
            ]
          },
          "metadata": {},
          "execution_count": 64
        }
      ]
    },
    {
      "cell_type": "code",
      "metadata": {
        "colab": {
          "base_uri": "https://localhost:8080/"
        },
        "id": "A_G0bbumv0A_",
        "outputId": "9c7557c7-59a2-4c54-9dda-4d206197be99"
      },
      "source": [
        "%%R\n",
        "df = Cars93[ , c('Type', 'Price')]\n",
        "head(df)"
      ],
      "execution_count": null,
      "outputs": [
        {
          "output_type": "stream",
          "name": "stdout",
          "text": [
            "     Type Price\n",
            "1   Small  15.9\n",
            "2 Midsize  33.9\n",
            "3 Compact  29.1\n",
            "4 Midsize  37.7\n",
            "5 Midsize  30.0\n",
            "6 Midsize  15.7\n"
          ]
        }
      ]
    },
    {
      "cell_type": "code",
      "metadata": {
        "colab": {
          "base_uri": "https://localhost:8080/",
          "height": 206
        },
        "id": "C9ya-bxj38RP",
        "outputId": "ae7ee549-f230-43a3-e7d4-d299c04ec573"
      },
      "source": [
        "df = Cars93[ ['Type', 'Price'] ]\n",
        "df.head()"
      ],
      "execution_count": null,
      "outputs": [
        {
          "output_type": "execute_result",
          "data": {
            "text/html": [
              "<div>\n",
              "<style scoped>\n",
              "    .dataframe tbody tr th:only-of-type {\n",
              "        vertical-align: middle;\n",
              "    }\n",
              "\n",
              "    .dataframe tbody tr th {\n",
              "        vertical-align: top;\n",
              "    }\n",
              "\n",
              "    .dataframe thead th {\n",
              "        text-align: right;\n",
              "    }\n",
              "</style>\n",
              "<table border=\"1\" class=\"dataframe\">\n",
              "  <thead>\n",
              "    <tr style=\"text-align: right;\">\n",
              "      <th></th>\n",
              "      <th>Type</th>\n",
              "      <th>Price</th>\n",
              "    </tr>\n",
              "  </thead>\n",
              "  <tbody>\n",
              "    <tr>\n",
              "      <th>0</th>\n",
              "      <td>Small</td>\n",
              "      <td>15.9</td>\n",
              "    </tr>\n",
              "    <tr>\n",
              "      <th>1</th>\n",
              "      <td>Midsize</td>\n",
              "      <td>33.9</td>\n",
              "    </tr>\n",
              "    <tr>\n",
              "      <th>2</th>\n",
              "      <td>Compact</td>\n",
              "      <td>29.1</td>\n",
              "    </tr>\n",
              "    <tr>\n",
              "      <th>3</th>\n",
              "      <td>Midsize</td>\n",
              "      <td>37.7</td>\n",
              "    </tr>\n",
              "    <tr>\n",
              "      <th>4</th>\n",
              "      <td>Midsize</td>\n",
              "      <td>30.0</td>\n",
              "    </tr>\n",
              "  </tbody>\n",
              "</table>\n",
              "</div>"
            ],
            "text/plain": [
              "      Type  Price\n",
              "0    Small   15.9\n",
              "1  Midsize   33.9\n",
              "2  Compact   29.1\n",
              "3  Midsize   37.7\n",
              "4  Midsize   30.0"
            ]
          },
          "metadata": {},
          "execution_count": 67
        }
      ]
    },
    {
      "cell_type": "markdown",
      "metadata": {
        "id": "CnI_O9-nwGag"
      },
      "source": [
        "## Seleção de Linhas"
      ]
    },
    {
      "cell_type": "code",
      "metadata": {
        "id": "7Y29qZf7wJkL"
      },
      "source": [
        "%%R\n",
        "Cars93[ Cars93$Type == 'Small' , ]"
      ],
      "execution_count": null,
      "outputs": []
    },
    {
      "cell_type": "code",
      "metadata": {
        "id": "LWtk1LDb4NZW"
      },
      "source": [
        "Cars93[ Cars93.Type == 'Small' ]"
      ],
      "execution_count": null,
      "outputs": []
    },
    {
      "cell_type": "code",
      "metadata": {
        "id": "YMEw7zCowZxV"
      },
      "source": [
        "%%R\n",
        "df = Cars93[ Cars93$Type == 'Small' , ]\n",
        "head(df)"
      ],
      "execution_count": null,
      "outputs": []
    },
    {
      "cell_type": "code",
      "metadata": {
        "id": "woYL4Uw7weOy"
      },
      "source": [
        "df = Cars93[ Cars93.Type == 'Small' ]\n",
        "df.head()"
      ],
      "execution_count": null,
      "outputs": []
    },
    {
      "cell_type": "markdown",
      "metadata": {
        "id": "Zv4ybeopwmEx"
      },
      "source": [
        "## Proporções"
      ]
    },
    {
      "cell_type": "code",
      "metadata": {
        "id": "mZzz99UjwqjY"
      },
      "source": [
        "%%R\n",
        "Cars93[ Cars93$Price  >  mean(Cars93$Price) , ]\n"
      ],
      "execution_count": null,
      "outputs": []
    },
    {
      "cell_type": "code",
      "metadata": {
        "colab": {
          "base_uri": "https://localhost:8080/"
        },
        "id": "zs_luPyYxFXp",
        "outputId": "a052a7cf-ce31-4a2a-a050-e7ea5da16ad8"
      },
      "source": [
        "%%R\n",
        "nrow( Cars93[ Cars93$Price  >  mean(Cars93$Price) , ] )"
      ],
      "execution_count": null,
      "outputs": [
        {
          "output_type": "stream",
          "name": "stdout",
          "text": [
            "[1] 35\n"
          ]
        }
      ]
    },
    {
      "cell_type": "code",
      "metadata": {
        "colab": {
          "base_uri": "https://localhost:8080/"
        },
        "id": "kOee6gYoxU3K",
        "outputId": "d52823ed-3691-41f8-c98c-63ab631cbe5b"
      },
      "source": [
        "%%R\n",
        "nrow( Cars93 )"
      ],
      "execution_count": null,
      "outputs": [
        {
          "output_type": "stream",
          "name": "stdout",
          "text": [
            "[1] 93\n"
          ]
        }
      ]
    },
    {
      "cell_type": "code",
      "metadata": {
        "colab": {
          "base_uri": "https://localhost:8080/"
        },
        "id": "d0zC3c7VxYkP",
        "outputId": "7b7451d8-febd-438c-d817-ffa78b0ec6b2"
      },
      "source": [
        "%%R\n",
        "nrow( Cars93[ Cars93$Price  >  mean(Cars93$Price) , ] )  /  nrow( Cars93 )"
      ],
      "execution_count": null,
      "outputs": [
        {
          "output_type": "stream",
          "name": "stdout",
          "text": [
            "[1] 0.3763441\n"
          ]
        }
      ]
    },
    {
      "cell_type": "code",
      "metadata": {
        "colab": {
          "base_uri": "https://localhost:8080/"
        },
        "id": "LDsHrHNr4xH_",
        "outputId": "35a4386e-26b8-40d6-9116-b5f3aa4c7dda"
      },
      "source": [
        "len( Cars93[ Cars93.Price > Cars93.Price.mean() ] ) / len( Cars93 )"
      ],
      "execution_count": null,
      "outputs": [
        {
          "output_type": "execute_result",
          "data": {
            "text/plain": [
              "0.3763440860215054"
            ]
          },
          "metadata": {},
          "execution_count": 77
        }
      ]
    },
    {
      "cell_type": "markdown",
      "metadata": {
        "id": "R-rFIgDXxj3H"
      },
      "source": [
        "## Seleção de Linhas e Colunas"
      ]
    },
    {
      "cell_type": "code",
      "metadata": {
        "id": "BEXhsZPRxoeq"
      },
      "source": [
        "%%R\n",
        "Cars93[ Cars93$Price  >  mean(Cars93$Price) , c('Type') ]"
      ],
      "execution_count": null,
      "outputs": []
    },
    {
      "cell_type": "code",
      "metadata": {
        "id": "2X2jLHys5IbA"
      },
      "source": [
        "Cars93[ Cars93.Price > Cars93.Price.mean() ][['Type']]"
      ],
      "execution_count": null,
      "outputs": []
    },
    {
      "cell_type": "code",
      "metadata": {
        "id": "Wd5SlyYdxzla"
      },
      "source": [
        "%%R\n",
        "Cars93[ Cars93$Price  >  mean(Cars93$Price) , c('Type','Price','Origin') ]"
      ],
      "execution_count": null,
      "outputs": []
    },
    {
      "cell_type": "code",
      "metadata": {
        "id": "kCw1y7n-5hCc"
      },
      "source": [
        "Cars93[ Cars93.Price > Cars93.Price.mean() ][['Type','Price','Origin']]"
      ],
      "execution_count": null,
      "outputs": []
    },
    {
      "cell_type": "code",
      "metadata": {
        "colab": {
          "base_uri": "https://localhost:8080/"
        },
        "id": "POH-Qpxix7xE",
        "outputId": "14de545d-282f-4af3-bbc1-720755fe8ea7"
      },
      "source": [
        "%%R\n",
        "mean( Cars93[ Cars93$Price  >  mean(Cars93$Price) , ]$Horsepower )"
      ],
      "execution_count": null,
      "outputs": [
        {
          "output_type": "stream",
          "name": "stdout",
          "text": [
            "[1] 185.4857\n"
          ]
        }
      ]
    },
    {
      "cell_type": "code",
      "metadata": {
        "colab": {
          "base_uri": "https://localhost:8080/"
        },
        "id": "hYQvOveW52I-",
        "outputId": "12a50df8-fea1-41e1-e638-4627b39139de"
      },
      "source": [
        "Cars93[ Cars93.Price > Cars93.Price.mean() ][['Horsepower']].mean()\n",
        "# ou\n",
        "Cars93[ Cars93.Price > Cars93.Price.mean() ]['Horsepower'].mean()\n",
        "# ou\n",
        "Cars93[ Cars93.Price > Cars93.Price.mean() ].Horsepower.mean()"
      ],
      "execution_count": null,
      "outputs": [
        {
          "output_type": "execute_result",
          "data": {
            "text/plain": [
              "185.4857142857143"
            ]
          },
          "metadata": {},
          "execution_count": 84
        }
      ]
    },
    {
      "cell_type": "code",
      "metadata": {
        "colab": {
          "base_uri": "https://localhost:8080/"
        },
        "id": "s9Z3HFs0yI7G",
        "outputId": "b23ef0c2-be17-4d51-c9a6-0ca70667b66f"
      },
      "source": [
        "%%R\n",
        "table( Cars93[ Cars93$Price  >  mean(Cars93$Price) , ]$Type )"
      ],
      "execution_count": null,
      "outputs": [
        {
          "output_type": "stream",
          "name": "stdout",
          "text": [
            "\n",
            "Compact   Large Midsize  Sporty     Van \n",
            "      5       8      14       5       3 \n"
          ]
        }
      ]
    },
    {
      "cell_type": "code",
      "metadata": {
        "colab": {
          "base_uri": "https://localhost:8080/"
        },
        "id": "UxJKTzzq6OaO",
        "outputId": "b300f42e-5b1f-45e8-9fb3-621da9092e06"
      },
      "source": [
        "Cars93[ Cars93.Price > Cars93.Price.mean() ].Type.value_counts()"
      ],
      "execution_count": null,
      "outputs": [
        {
          "output_type": "execute_result",
          "data": {
            "text/plain": [
              "Midsize    14\n",
              "Large       8\n",
              "Compact     5\n",
              "Sporty      5\n",
              "Van         3\n",
              "Name: Type, dtype: int64"
            ]
          },
          "metadata": {},
          "execution_count": 86
        }
      ]
    },
    {
      "cell_type": "markdown",
      "metadata": {
        "id": "0h8yKE847AUR"
      },
      "source": [
        "# Gráficos\n",
        "\n",
        "Principais bibliotecas, `Matplotlib`, `Seaborn` etc."
      ]
    },
    {
      "cell_type": "code",
      "metadata": {
        "id": "ZvrE55LK7NUv"
      },
      "source": [
        "import matplotlib.pyplot as plt\n",
        "import seaborn as sns\n",
        "%matplotlib inline"
      ],
      "execution_count": null,
      "outputs": []
    },
    {
      "cell_type": "code",
      "metadata": {
        "colab": {
          "base_uri": "https://localhost:8080/",
          "height": 497
        },
        "id": "BXVOY62tzoP0",
        "outputId": "9cc9cd13-2540-4265-debf-213c1e9f54db"
      },
      "source": [
        "%%R\n",
        "plot( Cars93$Price , Cars93$Horsepower )"
      ],
      "execution_count": null,
      "outputs": [
        {
          "output_type": "display_data",
          "data": {
            "image/png": "[encoded data removed]"
          },
          "metadata": {}
        }
      ]
    },
    {
      "cell_type": "code",
      "metadata": {
        "colab": {
          "base_uri": "https://localhost:8080/",
          "height": 265
        },
        "id": "wHShhPs47cCg",
        "outputId": "41faa991-c361-41a8-a54a-6c8d75356863"
      },
      "source": [
        "plt.scatter( Cars93.Price , Cars93.Horsepower )\n",
        "plt.show()"
      ],
      "execution_count": null,
      "outputs": [
        {
          "output_type": "display_data",
          "data": {
            "image/png": "[encoded data removed]",
            "text/plain": [
              "<Figure size 432x288 with 1 Axes>"
            ]
          },
          "metadata": {
            "needs_background": "light"
          }
        }
      ]
    },
    {
      "cell_type": "code",
      "metadata": {
        "colab": {
          "base_uri": "https://localhost:8080/",
          "height": 497
        },
        "id": "TliIcer3z3fR",
        "outputId": "74dc9ccc-b3ef-4f10-8f74-048cd5b8d30f"
      },
      "source": [
        "%%R\n",
        "hist( Cars93$Horsepower )"
      ],
      "execution_count": null,
      "outputs": [
        {
          "output_type": "display_data",
          "data": {
            "image/png": "[encoded data removed]"
          },
          "metadata": {}
        }
      ]
    },
    {
      "cell_type": "code",
      "metadata": {
        "colab": {
          "base_uri": "https://localhost:8080/",
          "height": 265
        },
        "id": "KPAjaEBT7saG",
        "outputId": "de8597ab-5f82-485a-f3d8-47132c6a4f9a"
      },
      "source": [
        "plt.hist( Cars93.Horsepower )\n",
        "plt.show()"
      ],
      "execution_count": null,
      "outputs": [
        {
          "output_type": "display_data",
          "data": {
            "image/png": "[encoded data removed]",
            "text/plain": [
              "<Figure size 432x288 with 1 Axes>"
            ]
          },
          "metadata": {
            "needs_background": "light"
          }
        }
      ]
    },
    {
      "cell_type": "markdown",
      "metadata": {
        "id": "uFeqCD5nMcTA"
      },
      "source": [
        "# Resumo `Matplotib`\n",
        "\n",
        "O código abaixo resume, de modo bastante simples, os principais gráficos do `Matplotlib`."
      ]
    },
    {
      "cell_type": "code",
      "metadata": {
        "colab": {
          "base_uri": "https://localhost:8080/"
        },
        "id": "TzeQCqHmtJVc",
        "outputId": "08ad8909-b569-43ef-f761-7a806838e9d3"
      },
      "source": [
        "Cars93.Type.value_counts()"
      ],
      "execution_count": null,
      "outputs": [
        {
          "output_type": "execute_result",
          "data": {
            "text/plain": [
              "Midsize    22\n",
              "Small      21\n",
              "Compact    16\n",
              "Sporty     14\n",
              "Large      11\n",
              "Van         9\n",
              "Name: Type, dtype: int64"
            ]
          },
          "metadata": {},
          "execution_count": 108
        }
      ]
    },
    {
      "cell_type": "code",
      "metadata": {
        "colab": {
          "base_uri": "https://localhost:8080/",
          "height": 984
        },
        "id": "3sZcplz_KKD4",
        "outputId": "19b8c047-9956-4238-8f17-265c0f494738"
      },
      "source": [
        "x = Cars93[ Cars93.Type == 'Compact' ].Price\n",
        "y = Cars93[ Cars93.Type == 'Sporty' ].Price\n",
        "z = Cars93[ Cars93.Type == 'Compact' ].Horsepower\n",
        "\n",
        "from matplotlib import cm # para cores no scatter plot\n",
        "\n",
        "plt.figure(figsize=(12,12))\n",
        "plt.suptitle('Gráficos', fontsize=14, weight='bold', y=1.05)\n",
        "\n",
        "plt.subplot(3, 2, 1)\n",
        "plt.plot(x.quantile([0, 0.25, 0.5, 0.75, 1]),z.quantile([0, 0.25, 0.5, 0.75, 1]))\n",
        "plt.title('Plot', fontsize=14, weight='bold')\n",
        "\n",
        "plt.subplot(3, 2, 2)\n",
        "plt.hist(Cars93.Price, bins=12, color='g', alpha=0.5)\n",
        "plt.title('Histograma', fontsize=14, weight='bold')\n",
        "\n",
        "plt.subplot(3, 2, 3)\n",
        "plt.scatter(x,z,c=x,cmap=cm.viridis)\n",
        "plt.title('Scatter plot', fontsize=14, weight='bold')\n",
        "\n",
        "plt.subplot(3, 2, 4)\n",
        "plt.boxplot([x,y],labels=['Price Compact','Price Sporty'])\n",
        "plt.title('Box plot', fontsize=14, weight='bold')\n",
        "\n",
        "plt.subplot(3, 2, 5)\n",
        "plt.bar(['Price Compact','Price Sporty'],[x.mean(),y.mean()],color=['c','g'],alpha=0.5)\n",
        "plt.title('Bar plot', fontsize=14, weight='bold')\n",
        "\n",
        "plt.subplot(3, 2, 6)\n",
        "plt.pie([x.sum(),y.sum()],\n",
        "        colors=['c','g'],\n",
        "        explode=[0, 0.1],\n",
        "        labels=['Price Compact','Price Sporty'],\n",
        "        autopct='%1.2f%%')\n",
        "plt.title('Pie plot', fontsize=14, weight='bold')\n",
        "\n",
        "plt.tight_layout()\n",
        "plt.show()\n"
      ],
      "execution_count": null,
      "outputs": [
        {
          "output_type": "stream",
          "name": "stderr",
          "text": [
            "/usr/local/lib/python3.7/dist-packages/numpy/core/_asarray.py:83: VisibleDeprecationWarning: Creating an ndarray from ragged nested sequences (which is a list-or-tuple of lists-or-tuples-or ndarrays with different lengths or shapes) is deprecated. If you meant to do this, you must specify 'dtype=object' when creating the ndarray\n",
            "  return array(a, dtype, copy=False, order=order)\n"
          ]
        },
        {
          "output_type": "display_data",
          "data": {
            "image/png": "[encoded data removed]",
            "text/plain": [
              "<Figure size 864x864 with 6 Axes>"
            ]
          },
          "metadata": {
            "needs_background": "light"
          }
        }
      ]
    }
  ]
}